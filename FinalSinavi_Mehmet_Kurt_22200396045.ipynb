{
  "nbformat": 4,
  "nbformat_minor": 0,
  "metadata": {
    "colab": {
      "provenance": [],
      "include_colab_link": true
    },
    "kernelspec": {
      "name": "python3",
      "display_name": "Python 3"
    },
    "language_info": {
      "name": "python"
    }
  },
  "cells": [
    {
      "cell_type": "markdown",
      "metadata": {
        "id": "view-in-github",
        "colab_type": "text"
      },
      "source": [
        "<a href=\"https://colab.research.google.com/github/Wolgteain/hu-bby162-2024/blob/main/FinalSinavi_Mehmet_Kurt_22200396045.ipynb\" target=\"_parent\"><img src=\"https://colab.research.google.com/assets/colab-badge.svg\" alt=\"Open In Colab\"/></a>"
      ]
    },
    {
      "cell_type": "markdown",
      "source": [
        "**Final Sınavına hoşgeldiniz!**"
      ],
      "metadata": {
        "id": "ItmuxWgBbkC1"
      }
    },
    {
      "cell_type": "markdown",
      "source": [
        "Canlı final sınavı, bilgisayar laboratuvarında bilgisayar başında yapılan ve teslim edilen sınavı ifade etmektedir. Canlı final sınavında yazmış olduğunuz kodlar sizin sorumluluğunuzdadır ve gerekirse hangi kodu neden yazdığınızı açık bir şekilde anlatabilmeniz gerekmektedir. Canlı final sınavı sırasında İnternet üzerindeki kaynaklar kullanılabilir ancak başka bir kişiden destek alınamaz.\n",
        "\n",
        "Canlı final sınavının teslim şekli önceki sınav ve projelerin teslim şekli ile aynıdır. \"Final Sınavı\" adlı Colab not defterinin bir kopyasını çıkarmalı, size ait olan bu kopya üzerinde soruları cevaplamalı, GitHub'daki ders deponuza size ait kopyayı yüklemeli ve not defterinin adresini metin alanına yazarak göndermelisiniz.\n",
        "\n",
        "Canlı final sınavının doğru şekilde tamamlanması da sınavın önemli bir parçasıdır. Sınav için gönderdiğiniz adresi kontrol ediniz ve doğru dosyayı depoya yerleştirdiği bizden emin olunuz. Teslim sürecinde yapılan hatalar sınavdan 0 puan almanıza yol açabilir!\n",
        "\n",
        "**Sınav süresi 60 dakikadır!**\n",
        "\n",
        "Önemli Not: Soruları cecaplarken sadece şu ana kadar öğrendiğiniz kod yapılarını kullanmanız gerekmektedir!!!"
      ],
      "metadata": {
        "id": "KGjdjR5RbTgH"
      }
    },
    {
      "cell_type": "markdown",
      "source": [
        "**----- Sorular -----**"
      ],
      "metadata": {
        "id": "zBvdh4s8cOqM"
      }
    },
    {
      "cell_type": "markdown",
      "source": [
        "**Soru 1:** Kod bölümünde yer alan listeyi ekrana aşağıda gösterildiği şekilde \"for\" döngüsü kullanarak yazdırın. Her kelimenin başındaki numara otomatik olarak verilmelidir. (5 Puan)\n",
        "\n",
        "1.   Açık Erişim\n",
        "2.   Açık Bilim\n",
        "3.   Açık Veri\n",
        "4.   Açık Eğitim\n",
        "5.   Açık Kültür"
      ],
      "metadata": {
        "id": "ma0FVqgQiLBe"
      }
    },
    {
      "cell_type": "code",
      "source": [
        "#Soru 1 bu bölümde kodlanmalıdır\n",
        "acikListe = [\"Açık Erişim\", \"Açık Bilim\", \"Açık Veri\", \"Açık Eğitim\", \"Açık Kültür\"]\n",
        "\n",
        "kelimeler = [\"Açık Erişim\", \"Açık Bilim\", \"Açık Veri\", \"Açık Eğitim\", \"Açık Kültür\"]\n",
        "\n",
        "for i, kelime in enumerate(kelimeler, 1):\n",
        "    print(f\"{i}.{kelime}\")\n",
        "\n"
      ],
      "metadata": {
        "id": "Fj7wkLMcjp_7",
        "outputId": "ac9e8ff0-68b4-4c6a-f33a-aff90ec2224a",
        "colab": {
          "base_uri": "https://localhost:8080/"
        }
      },
      "execution_count": 4,
      "outputs": [
        {
          "output_type": "stream",
          "name": "stdout",
          "text": [
            "1.Açık Erişim\n",
            "2.Açık Bilim\n",
            "3.Açık Veri\n",
            "4.Açık Eğitim\n",
            "5.Açık Kültür\n"
          ]
        }
      ]
    },
    {
      "cell_type": "markdown",
      "source": [
        "**Soru 2:** Kod bölümünde yer alan boş sözlüğe klavyeden yeni veri ekleyecek kodu yazınız. Yeni veri hem anahtarı (key) hem de anahtara karşılık gelecek değerli (value) içermelidir. Veri girişi yapıldıktan sonra sözlüğün güncel hali de ekrana yazıdırılmalıdır. (5 Puan)"
      ],
      "metadata": {
        "id": "uZDiXJARgK4o"
      }
    },
    {
      "cell_type": "code",
      "source": [
        "#Soru 2 bu bölümde kodlanmalıdır\n",
        "sozluk = {}\n",
        "\n",
        "\n",
        "\n",
        "anahtar = input(\"Anahtar (key) giriniz: \")\n",
        "deger = input(\"Değer (value) giriniz: \")\n",
        "\n",
        "\n",
        "sozluk[anahtar] = deger\n",
        "\n",
        "\n",
        "print(\"Güncellenmiş sözlük:\", sozluk)\n",
        "\n",
        "\n"
      ],
      "metadata": {
        "id": "no7Zd1ZCh5U3"
      },
      "execution_count": null,
      "outputs": []
    },
    {
      "cell_type": "markdown",
      "source": [
        "**Soru 3:** Herhangi bir metin dosyasında (ör: [veri.txt](https://drive.google.com/file/d/1WVCEET3G3ishvIR-V6lCav7jBgaZLT-o/view?usp=sharing)) satır satır yer alan verileri okuyup ekrana satır satır yazdıracak kodu yazınız. (10 Puan)"
      ],
      "metadata": {
        "id": "HnIqbjcCeNEV"
      }
    },
    {
      "cell_type": "code",
      "source": [
        "#Soru 3 bu bölümde kodlanmalıdır\n",
        "\n",
        "\n",
        "dosya_adi = \"metin\"\n",
        "\n",
        "\n",
        "try:\n",
        "    with open(dosya_adi, 'r', encoding='utf-8') as dosya:\n",
        "        for satir in dosya:\n",
        "            print(satir.strip())\n",
        "except FileNotFoundError:\n",
        "    print(f\"{dosya_adi} dosyası bulunamadı.\")\n",
        "\n",
        "\n"
      ],
      "metadata": {
        "id": "SjzG5g3ffTyv",
        "colab": {
          "base_uri": "https://localhost:8080/"
        },
        "outputId": "22b427d0-5825-492f-d836-f23cc0384a5a"
      },
      "execution_count": 2,
      "outputs": [
        {
          "output_type": "stream",
          "name": "stdout",
          "text": [
            "metin dosyası bulunamadı.\n"
          ]
        }
      ]
    },
    {
      "cell_type": "markdown",
      "source": [
        "**Soru 4:** Verilerin bir TXT dosyasında depolanabileceği basit bir adres defteri oluşturunuz. Adres defterindeki öğeler Ad-Soyad ve e-Posta olacaktır. Bu adres desteri uygulamasında bir menü yapısı (uygulama içinde fonksiyolar) olmalıdır. 1. seçenek adres defterindeki girişleri göstermeli, 2. seçenek adres defterine yeni veri eklemeli, 3. seçenek ise uygulamayı sonlandırmalıdır. (20 Puan)"
      ],
      "metadata": {
        "id": "p49cZFjJcXoS"
      }
    },
    {
      "cell_type": "code",
      "execution_count": 3,
      "metadata": {
        "id": "3whYCDz3a8QZ",
        "colab": {
          "base_uri": "https://localhost:8080/"
        },
        "outputId": "3775eb15-de77-410b-fde3-a6ae2f110978"
      },
      "outputs": [
        {
          "output_type": "stream",
          "name": "stdout",
          "text": [
            "\n",
            "Adres Defteri Uygulaması\n",
            "1. Adres defterindeki girişleri göster\n",
            "2. Adres defterine yeni veri ekle\n",
            "3. Uygulamayı sonlandır\n",
            "Seçiminizi giriniz (1/2/3): 2\n",
            "Ad-Soyad giriniz: Mehmet kurt\n",
            "e-Posta giriniz: mehmetasd\n",
            "Yeni kayıt başarıyla eklendi.\n",
            "\n",
            "Adres Defteri Uygulaması\n",
            "1. Adres defterindeki girişleri göster\n",
            "2. Adres defterine yeni veri ekle\n",
            "3. Uygulamayı sonlandır\n",
            "Seçiminizi giriniz (1/2/3): 3\n",
            "Uygulama sonlandırılıyor...\n"
          ]
        }
      ],
      "source": [
        "#Soru 4 bu bölümde kodlanmalıdır\n",
        "\n",
        "\n",
        "dosya_adi = \"adres_defteri.txt\"\n",
        "\n",
        "\n",
        "def adres_defterini_goster():\n",
        "    try:\n",
        "        with open(dosya_adi, 'r', encoding='utf-8') as dosya:\n",
        "            icerik = dosya.readlines()\n",
        "            if not icerik:\n",
        "                print(\"Adres defteri boş.\")\n",
        "            else:\n",
        "                for satir in icerik:\n",
        "                    print(satir.strip())\n",
        "    except FileNotFoundError:\n",
        "        print(f\"{dosya_adi} dosyası bulunamadı.\")\n",
        "\n",
        "\n",
        "def yeni_veri_ekle():\n",
        "    ad_soyad = input(\"Ad-Soyad giriniz: \")\n",
        "    e_posta = input(\"e-Posta giriniz: \")\n",
        "    yeni_kayit = f\"{ad_soyad} - {e_posta}\\n\"\n",
        "\n",
        "    with open(dosya_adi, 'a', encoding='utf-8') as dosya:\n",
        "        dosya.write(yeni_kayit)\n",
        "    print(\"Yeni kayıt başarıyla eklendi.\")\n",
        "\n",
        "\n",
        "def menu():\n",
        "    while True:\n",
        "        print(\"\\nAdres Defteri Uygulaması\")\n",
        "        print(\"1. Adres defterindeki girişleri göster\")\n",
        "        print(\"2. Adres defterine yeni veri ekle\")\n",
        "        print(\"3. Uygulamayı sonlandır\")\n",
        "\n",
        "        secim = input(\"Seçiminizi giriniz (1/2/3): \")\n",
        "\n",
        "        if secim == '1':\n",
        "            adres_defterini_goster()\n",
        "        elif secim == '2':\n",
        "            yeni_veri_ekle()\n",
        "        elif secim == '3':\n",
        "            print(\"Uygulama sonlandırılıyor...\")\n",
        "            break\n",
        "        else:\n",
        "            print(\"Geçersiz bir seçim yaptınız. Lütfen tekrar deneyin.\")\n",
        "\n",
        "\n",
        "menu()\n",
        "\n"
      ]
    }
  ]
}